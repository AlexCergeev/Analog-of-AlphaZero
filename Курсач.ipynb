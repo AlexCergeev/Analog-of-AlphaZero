{
  "nbformat": 4,
  "nbformat_minor": 0,
  "metadata": {
    "colab": {
      "name": "Курсач",
      "provenance": [],
      "collapsed_sections": [
        "1GQ2XbdEjTAd",
        "nKMU04S7jGVS",
        "_0WeC-2Yq4-s",
        "ukmA7z-dlB6m"
      ],
      "toc_visible": true,
      "machine_shape": "hm",
      "include_colab_link": true
    },
    "kernelspec": {
      "name": "python3",
      "display_name": "Python 3"
    },
    "accelerator": "GPU"
  },
  "cells": [
    {
      "cell_type": "markdown",
      "metadata": {
        "id": "view-in-github",
        "colab_type": "text"
      },
      "source": [
        "<a href=\"https://colab.research.google.com/github/AlexCergeev/Analog-of-AlphaZero/blob/main/%D0%9A%D1%83%D1%80%D1%81%D0%B0%D1%87.ipynb\" target=\"_parent\"><img src=\"https://colab.research.google.com/assets/colab-badge.svg\" alt=\"Open In Colab\"/></a>"
      ]
    },
    {
      "cell_type": "markdown",
      "metadata": {
        "id": "UYsbk_8vYy9k"
      },
      "source": [
        "**Start on GPU (Runtime shape High-RAM)**"
      ]
    },
    {
      "cell_type": "code",
      "metadata": {
        "id": "cK4cp850Cpdg",
        "colab": {
          "base_uri": "https://localhost:8080/"
        },
        "outputId": "6a87aec3-622b-4b3b-ea84-22b9224ecb34"
      },
      "source": [
        "from google.colab import drive\n",
        "drive.mount('/content/drive')\n"
      ],
      "execution_count": 1,
      "outputs": [
        {
          "output_type": "stream",
          "text": [
            "Mounted at /content/drive\n"
          ],
          "name": "stdout"
        }
      ]
    },
    {
      "cell_type": "code",
      "metadata": {
        "id": "TJxex2pwMpDE",
        "colab": {
          "base_uri": "https://localhost:8080/"
        },
        "outputId": "392d33f9-9ad9-4b60-c2b8-f7f0946507b7"
      },
      "source": [
        "!unzip /content/drive/MyDrive/Chess/chessData.csv.zip"
      ],
      "execution_count": 2,
      "outputs": [
        {
          "output_type": "stream",
          "text": [
            "Archive:  /content/drive/MyDrive/Chess/chessData.csv.zip\n",
            "  inflating: chessData.csv           \n"
          ],
          "name": "stdout"
        }
      ]
    },
    {
      "cell_type": "markdown",
      "metadata": {
        "id": "1GQ2XbdEjTAd"
      },
      "source": [
        "# Import required libraries"
      ]
    },
    {
      "cell_type": "markdown",
      "metadata": {
        "id": "iya2SZ92ilT8"
      },
      "source": [
        "You need to upload 3 files: \n",
        "\n",
        "1.   data.pgn\n",
        "2.   stockfish.csv\n",
        "3.   stockfish_13_linux_x64_bmi2.zim\n",
        "\n"
      ]
    },
    {
      "cell_type": "code",
      "metadata": {
        "id": "fn0sCWoHYsbB",
        "colab": {
          "base_uri": "https://localhost:8080/"
        },
        "outputId": "114455a4-0ecc-4e7f-9c44-1e22e0b9c8a9"
      },
      "source": [
        "!pip install python-chess==0.31.3"
      ],
      "execution_count": 1,
      "outputs": [
        {
          "output_type": "stream",
          "text": [
            "Requirement already satisfied: python-chess==0.31.3 in /usr/local/lib/python3.7/dist-packages (0.31.3)\n"
          ],
          "name": "stdout"
        }
      ]
    },
    {
      "cell_type": "code",
      "metadata": {
        "id": "2xt7U3FCjuAZ"
      },
      "source": [
        "import chess\n",
        "import chess.engine\n",
        "import chess.pgn\n",
        "import random\n",
        "from PIL import Image, ImageFilter\n",
        "import numpy as np\n",
        "import requests\n",
        "from io import BytesIO\n",
        "import matplotlib.pyplot as plt\n",
        "from scipy import signal\n",
        "import tensorflow as tf\n",
        "import time\n",
        "import csv"
      ],
      "execution_count": 2,
      "outputs": []
    },
    {
      "cell_type": "code",
      "metadata": {
        "id": "ZPooLxABj1_S"
      },
      "source": [
        "import tensorflow.keras.models as models\n",
        "import tensorflow.keras.layers as layers\n",
        "import tensorflow.keras.utils as utils\n",
        "import tensorflow.keras.optimizers as optimizers\n",
        "from tensorflow.keras.models import Sequential, Model\n",
        "from tensorflow.keras.layers import Conv2D, \\\n",
        "                                    Dense, \\\n",
        "                                    MaxPool2D,\\\n",
        "                                    Dropout, \\\n",
        "                                    Flatten, \\\n",
        "                                    BatchNormalization,\\\n",
        "                                    Input\n",
        "import tensorflow.keras.callbacks as callbacks"
      ],
      "execution_count": 3,
      "outputs": []
    },
    {
      "cell_type": "code",
      "metadata": {
        "id": "8vJysv_aA8Me"
      },
      "source": [
        "from tensorflow.keras.models import Sequential\n",
        "from tensorflow.keras.layers import BatchNormalization\n",
        "from tensorflow.keras.layers import Conv2D\n",
        "from tensorflow.keras.layers import MaxPooling2D\n",
        "from tensorflow.keras.layers import Activation\n",
        "from tensorflow.keras.layers import Flatten\n",
        "from tensorflow.keras.layers import Dropout\n",
        "from tensorflow.keras.layers import Dense\n",
        "from tensorflow.keras.optimizers import Adam\n",
        "from tensorflow.keras.losses import categorical_crossentropy\n",
        "from tensorflow.keras.utils import to_categorical\n",
        "import sys"
      ],
      "execution_count": 4,
      "outputs": []
    },
    {
      "cell_type": "markdown",
      "metadata": {
        "id": "nKMU04S7jGVS"
      },
      "source": [
        "# GPU Optimization"
      ]
    },
    {
      "cell_type": "code",
      "metadata": {
        "id": "lrIAQhPQjrcj",
        "colab": {
          "base_uri": "https://localhost:8080/"
        },
        "outputId": "db237ca9-21e4-4bd7-cf29-c7735fcfe518"
      },
      "source": [
        "gpus = tf.config.experimental.list_physical_devices('GPU')\n",
        "if gpus:\n",
        "  try:\n",
        "    # Currently, memory growth needs to be the same across GPUs\n",
        "    for gpu in gpus:\n",
        "      tf.config.experimental.set_memory_growth(gpu, True)\n",
        "    logical_gpus = tf.config.experimental.list_logical_devices('GPU')\n",
        "    print(len(gpus), \"Physical GPUs,\", len(logical_gpus), \"Logical GPUs\")\n",
        "  except RuntimeError as e:\n",
        "    # Memory growth must be set before GPUs have been initialized\n",
        "    print(e)"
      ],
      "execution_count": 5,
      "outputs": [
        {
          "output_type": "stream",
          "text": [
            "1 Physical GPUs, 1 Logical GPUs\n"
          ],
          "name": "stdout"
        }
      ]
    },
    {
      "cell_type": "markdown",
      "metadata": {
        "id": "_0WeC-2Yq4-s"
      },
      "source": [
        "# Functions"
      ]
    },
    {
      "cell_type": "code",
      "metadata": {
        "id": "QauvWk2MkddY"
      },
      "source": [
        "# this function will create our f(x) (score)\n",
        "def stockfish(board):\n",
        "  with chess.engine.SimpleEngine.popen_uci('/content/stockfish_13_linux_x64_bmi2/stockfish_13_linux_x64_bmi2') as sf:\n",
        "    for i in range(19, 0, -1):    \n",
        "      result = sf.analyse(board, chess.engine.Limit(depth=i))\n",
        "      score = result['score'].white().score()\n",
        "      if score is not None: break\n",
        "    return score"
      ],
      "execution_count": 6,
      "outputs": []
    },
    {
      "cell_type": "code",
      "metadata": {
        "id": "ULOEWyyfYqtq"
      },
      "source": [
        "board = chess.Board()"
      ],
      "execution_count": 7,
      "outputs": []
    },
    {
      "cell_type": "code",
      "metadata": {
        "id": "zXW_-cvql7wk"
      },
      "source": [
        "BOARD_SIZE = (8, 8, 6)\n",
        "PIECE_TO_INDEX = {'P' : 0, 'R' : 1, 'N' : 2, 'B' : 3, 'Q' : 4, 'K' : 5}\n",
        "INDEX_TO_PIECE = {0 : 'P', 1 : 'R', 2 : 'N', 3 : 'B', 4 : 'Q', 5 : 'K'}\n",
        "Y_TO_CHESSY = {0 : 'a', 1 : 'b', 2 : 'c', 3 : 'd', 4 : 'e', 5 : 'f', 6 : 'g', 7 : 'h'}\n",
        "CHESSY_TO_Y = {'a' : 0, 'b' : 1, 'c' : 2, 'd' : 3, 'e' : 4, 'f' : 5, 'g' : 6, 'h' : 7}"
      ],
      "execution_count": 8,
      "outputs": []
    },
    {
      "cell_type": "code",
      "metadata": {
        "id": "733wcKYDgU1z"
      },
      "source": [
        "def convert_bitboard_to_image(board):\n",
        "\tim2d = np.array(list(board.split()[0].replace('/', '').replace('8', '.'*8).replace('7', '.'*7).replace('6', '.'*6).replace('5', '.'*5).replace('4', '.'*4).replace('3', '.'*3).replace('2', '.'*2).replace('1', '.'*1))).reshape((8, 8))\n",
        "\tim = np.array(np.random.rand(8,8,6)/10, dtype=np.float16) #np.zeros(BOARD_SIZE, dtype=np.int8)\n",
        "\n",
        "\tfor i in range(BOARD_SIZE[0]):\n",
        "\t\tfor j in range(BOARD_SIZE[1]):\n",
        "\t\t\tpiece = im2d[i, j]\n",
        "\t\t\tif piece == '.': continue\n",
        "\t\t\tif piece.isupper():\n",
        "\t\t\t\tim[i, j, PIECE_TO_INDEX[piece.upper()]] = 1\n",
        "\t\t\telse:\n",
        "\t\t\t\tim[i, j, PIECE_TO_INDEX[piece.upper()]] = -1\n",
        "  \n",
        "\n",
        "\treturn im"
      ],
      "execution_count": 9,
      "outputs": []
    },
    {
      "cell_type": "code",
      "metadata": {
        "id": "4BOqplnpl5pN"
      },
      "source": [
        "def board_to_image(board):\n",
        "\tim2d = np.array(list(str(board).replace('\\n', '').replace(' ', ''))).reshape((8, 8))\n",
        "\tim = np.zeros(BOARD_SIZE)\n",
        "\n",
        "\tfor i in range(BOARD_SIZE[0]):\n",
        "\t\tfor j in range(BOARD_SIZE[1]):\n",
        "\t\t\tpiece = im2d[i, j]\n",
        "\t\t\tif piece == '.': continue\n",
        "\t\t\tif piece.isupper():\n",
        "\t\t\t\tim[i, j, PIECE_TO_INDEX[piece.upper()]] = 1\n",
        "\t\t\telse:\n",
        "\t\t\t\tim[i, j, PIECE_TO_INDEX[piece.upper()]] = -1\n",
        "\n",
        "\treturn im"
      ],
      "execution_count": 10,
      "outputs": []
    },
    {
      "cell_type": "code",
      "metadata": {
        "id": "e4CfjcGorHzg"
      },
      "source": [
        "def predict(board):\n",
        "  board3d = board_to_image(board)\n",
        "  board3d = np.expand_dims(board3d, 0)\n",
        "  return model.predict(board3d)[0][0]"
      ],
      "execution_count": 11,
      "outputs": []
    },
    {
      "cell_type": "markdown",
      "metadata": {
        "id": "6Fgr5NTWqgsA"
      },
      "source": [
        "**The AI will learn how to give a accurate prediction of *f(x)* when we present a *x* never seen before.**\n",
        "\n",
        "*board -> score*"
      ]
    },
    {
      "cell_type": "markdown",
      "metadata": {
        "id": "cMgBRL1Kdc0B"
      },
      "source": [
        "# Creating the dataset"
      ]
    },
    {
      "cell_type": "code",
      "metadata": {
        "id": "XyyB5beYIVO6",
        "colab": {
          "base_uri": "https://localhost:8080/"
        },
        "outputId": "a156032b-909e-4bb6-c588-fc80846a4ea5"
      },
      "source": [
        "y_train = []\n",
        "x_train = []\n",
        "\n",
        "with open('/content/chessData.csv', newline='') as File:  \n",
        "    reader = csv.reader(File)\n",
        "    for step, row in enumerate(reader):\n",
        "        if row == ['FEN', 'Evaluation']:\n",
        "          continue \n",
        "        fen, stfish = row[0], row[1]\n",
        "\n",
        "        if stfish[0]=='#': continue\n",
        "\n",
        "        x_train.append(convert_bitboard_to_image(fen))\n",
        "\n",
        "        # if stfish[0]=='#':\n",
        "        #   stfish = stfish.replace('#', '')\n",
        "        \n",
        "        y_train.append(float(stfish.replace(\"\\ufeff\", \"\"))/100)\n",
        "\n",
        "        if step % 2000000 == 0:  print(\"step =\",step)\n",
        "        if step > 8000000: break  #Max 10 000 000\n",
        "\n",
        "x_train = np.array(x_train)\n",
        "y_train = np.array(y_train)\n",
        "\n",
        "mean = np.mean(y_train)\n",
        "std = np.std(y_train)\n",
        "y_train = np.asarray((y_train-mean)/ (std*3), dtype=np.float32)\n",
        "#y_train = np.asarray(y_train / abs(y_train).max() / 2 + 0.5, dtype=np.float32)\n",
        "print(x_train.shape)\n",
        "print(y_train.shape)"
      ],
      "execution_count": 12,
      "outputs": [
        {
          "output_type": "stream",
          "text": [
            "step = 4000000\n",
            "step = 6000000\n",
            "step = 8000000\n",
            "(7899505, 8, 8, 6)\n",
            "(7899505,)\n"
          ],
          "name": "stdout"
        }
      ]
    },
    {
      "cell_type": "markdown",
      "metadata": {
        "id": "d4Sg-yu0sS4t"
      },
      "source": [
        "Now we need to convert the board representation to something meaningful.\n",
        "\n",
        "A 3d matrix of sizes **8 x 8 x 6**\n",
        "\n"
      ]
    },
    {
      "cell_type": "code",
      "metadata": {
        "colab": {
          "base_uri": "https://localhost:8080/"
        },
        "id": "mdws45TzRYeS",
        "outputId": "d754a193-140b-4d43-9456-b9237b20a0c0"
      },
      "source": [
        "def get_dataset():\n",
        "\tcontainer = np.load('/content/drive/MyDrive/Chess/file_without_mat.npz')\n",
        "\tb, v = container['arr_0'], container['arr_1']\n",
        "\t# normalization (0 - 1)\n",
        "\treturn b, v\n",
        "\n",
        "x_train, y_train = get_dataset()\n",
        "\n",
        "mean = np.mean(y_train)\n",
        "std = np.std(y_train)\n",
        "y_train = np.asarray((y_train-mean)/ (std*3), dtype=np.float32)\n",
        "\n",
        "print(x_train.shape)\n",
        "print(y_train.shape)"
      ],
      "execution_count": null,
      "outputs": [
        {
          "output_type": "stream",
          "text": [
            "(12767881, 8, 8, 6)\n",
            "(12767881,)\n"
          ],
          "name": "stdout"
        }
      ]
    },
    {
      "cell_type": "code",
      "metadata": {
        "id": "kkN2H3GydnzJ"
      },
      "source": [
        "samples = y_train.shape[0] - 200000  # 1981517\n",
        "\n",
        "# Reserve 10,000 samples for validation.\n",
        "x_val = x_train[samples:]\n",
        "y_val = y_train[samples:]\n",
        "x_train_final = x_train[:samples]\n",
        "y_train_final = y_train[:samples]"
      ],
      "execution_count": 13,
      "outputs": []
    },
    {
      "cell_type": "markdown",
      "metadata": {
        "id": "bxNRPs0jacEd"
      },
      "source": [
        "# Model\n"
      ]
    },
    {
      "cell_type": "markdown",
      "metadata": {
        "id": "INSIpvoS5EmZ"
      },
      "source": [
        "https://www.tensorflow.org/api_docs/python/tf/keras/activations"
      ]
    },
    {
      "cell_type": "code",
      "metadata": {
        "id": "6S7QNZqwmBOP"
      },
      "source": [
        "def build_model(depth):\n",
        "  board3d = layers.Input(shape=(8, 8,6))\n",
        "\n",
        "  # adding the convolutional layers\n",
        "  x = board3d\n",
        "  x = layers.Conv2D(6, kernel_size=(3,3), padding='same', activation=\"softsign\")(x)\n",
        "  x = layers.Flatten()(x)\n",
        "  x = layers.Dense(depth, activation=\"softsign\")(x)\n",
        "  x = layers.Dropout(0.3)(x)\n",
        "  x = layers.Dense(depth, activation=\"softsign\")(x)\n",
        "  x = layers.Dropout(0.2)(x)\n",
        "  x = layers.Dense(1, activation=\"softsign\")(x)\n",
        "  return models.Model(inputs=board3d, outputs=x)\n",
        "\n",
        "\n",
        "#model = build_model(80)\n",
        "#model.summary()"
      ],
      "execution_count": 14,
      "outputs": []
    },
    {
      "cell_type": "markdown",
      "metadata": {
        "id": "ck79-w2ZxwVB"
      },
      "source": [
        "# It's training time!"
      ]
    },
    {
      "cell_type": "code",
      "metadata": {
        "colab": {
          "base_uri": "https://localhost:8080/"
        },
        "id": "rINQWd1oK0uD",
        "outputId": "7b23790a-bdca-4837-a4d2-5bfb7f236851"
      },
      "source": [
        "model = build_model(80)\n",
        "model.compile(optimizer=optimizers.Adam(learning_rate=0.00005), loss='mean_squared_error')\n",
        "model.summary()\n",
        "history = model.fit(x_train_final, y_train_final,   # TODO x_train, y_train change to ai traing \n",
        "            batch_size=1000,\n",
        "            epochs=150,\n",
        "            validation_data =(x_val, y_val),\n",
        "            verbose=1)#,\n",
        "              #callbacks=[callbacks.ReduceLROnPlateau(monitor='loss', patience=10),\n",
        "              #         callbacks.EarlyStopping(monitor='loss', patience=15)])"
      ],
      "execution_count": null,
      "outputs": [
        {
          "output_type": "stream",
          "text": [
            "Model: \"model\"\n",
            "_________________________________________________________________\n",
            "Layer (type)                 Output Shape              Param #   \n",
            "=================================================================\n",
            "input_1 (InputLayer)         [(None, 8, 8, 6)]         0         \n",
            "_________________________________________________________________\n",
            "conv2d (Conv2D)              (None, 8, 8, 6)           330       \n",
            "_________________________________________________________________\n",
            "flatten (Flatten)            (None, 384)               0         \n",
            "_________________________________________________________________\n",
            "dense (Dense)                (None, 80)                30800     \n",
            "_________________________________________________________________\n",
            "dropout (Dropout)            (None, 80)                0         \n",
            "_________________________________________________________________\n",
            "dense_1 (Dense)              (None, 80)                6480      \n",
            "_________________________________________________________________\n",
            "dropout_1 (Dropout)          (None, 80)                0         \n",
            "_________________________________________________________________\n",
            "dense_2 (Dense)              (None, 1)                 81        \n",
            "=================================================================\n",
            "Total params: 37,691\n",
            "Trainable params: 37,691\n",
            "Non-trainable params: 0\n",
            "_________________________________________________________________\n",
            "Epoch 1/150\n",
            "7700/7700 [==============================] - 40s 3ms/step - loss: 0.1118 - val_loss: 0.1114\n",
            "Epoch 2/150\n",
            "7700/7700 [==============================] - 23s 3ms/step - loss: 0.1038 - val_loss: 0.1096\n",
            "Epoch 3/150\n",
            "7700/7700 [==============================] - 24s 3ms/step - loss: 0.1013 - val_loss: 0.1063\n",
            "Epoch 4/150\n",
            "7700/7700 [==============================] - 23s 3ms/step - loss: 0.0993 - val_loss: 0.1043\n",
            "Epoch 5/150\n",
            "7700/7700 [==============================] - 23s 3ms/step - loss: 0.0974 - val_loss: 0.1025\n",
            "Epoch 6/150\n",
            "7700/7700 [==============================] - 23s 3ms/step - loss: 0.0961 - val_loss: 0.1016\n",
            "Epoch 7/150\n",
            "7700/7700 [==============================] - 23s 3ms/step - loss: 0.0958 - val_loss: 0.1015\n",
            "Epoch 8/150\n",
            "7700/7700 [==============================] - 23s 3ms/step - loss: 0.0949 - val_loss: 0.1013\n",
            "Epoch 9/150\n",
            "7700/7700 [==============================] - 23s 3ms/step - loss: 0.0945 - val_loss: 0.1007\n",
            "Epoch 10/150\n",
            "7700/7700 [==============================] - 23s 3ms/step - loss: 0.0944 - val_loss: 0.1002\n",
            "Epoch 11/150\n",
            "7700/7700 [==============================] - 23s 3ms/step - loss: 0.0940 - val_loss: 0.1008\n",
            "Epoch 12/150\n",
            "7700/7700 [==============================] - 23s 3ms/step - loss: 0.0941 - val_loss: 0.1001\n",
            "Epoch 13/150\n",
            "7700/7700 [==============================] - 23s 3ms/step - loss: 0.0940 - val_loss: 0.0999\n",
            "Epoch 14/150\n",
            "7700/7700 [==============================] - 23s 3ms/step - loss: 0.0937 - val_loss: 0.1002\n",
            "Epoch 15/150\n",
            "7700/7700 [==============================] - 24s 3ms/step - loss: 0.0936 - val_loss: 0.0996\n",
            "Epoch 16/150\n",
            "7700/7700 [==============================] - 23s 3ms/step - loss: 0.0934 - val_loss: 0.0997\n",
            "Epoch 17/150\n",
            "7700/7700 [==============================] - 23s 3ms/step - loss: 0.0933 - val_loss: 0.0996\n",
            "Epoch 18/150\n",
            "7700/7700 [==============================] - 24s 3ms/step - loss: 0.0932 - val_loss: 0.0999\n",
            "Epoch 19/150\n",
            "7700/7700 [==============================] - 24s 3ms/step - loss: 0.0936 - val_loss: 0.0996\n",
            "Epoch 20/150\n",
            "7700/7700 [==============================] - 23s 3ms/step - loss: 0.0931 - val_loss: 0.1001\n",
            "Epoch 21/150\n",
            "7700/7700 [==============================] - 23s 3ms/step - loss: 0.0933 - val_loss: 0.0992\n",
            "Epoch 22/150\n",
            "7700/7700 [==============================] - 23s 3ms/step - loss: 0.0933 - val_loss: 0.0995\n",
            "Epoch 23/150\n",
            "7700/7700 [==============================] - 23s 3ms/step - loss: 0.0931 - val_loss: 0.0994\n",
            "Epoch 24/150\n",
            "1098/7700 [===>..........................] - ETA: 19s - loss: 0.0926"
          ],
          "name": "stdout"
        }
      ]
    },
    {
      "cell_type": "code",
      "metadata": {
        "colab": {
          "base_uri": "https://localhost:8080/",
          "height": 279
        },
        "id": "UinTLWl5b0Q_",
        "outputId": "850176d5-4e60-4783-db08-28c850a6026f"
      },
      "source": [
        "plt.xlabel('Epochs')\n",
        "plt.ylabel(\"Loss\")\n",
        "plt.plot(history.epoch, history.history[\"loss\"],  label='loss')\n",
        "plt.grid()\n",
        "plt.plot(history.epoch, history.history[\"val_loss\"],  label='val_loss' )\n",
        "plt.show()"
      ],
      "execution_count": 18,
      "outputs": [
        {
          "output_type": "display_data",
          "data": {
            "image/png": "[encoded data removed]",
            "text/plain": [
              "<Figure size 432x288 with 1 Axes>"
            ]
          },
          "metadata": {
            "tags": [],
            "needs_background": "light"
          }
        }
      ]
    },
    {
      "cell_type": "markdown",
      "metadata": {
        "id": "MSefASEmawFC"
      },
      "source": [
        "# Gradients"
      ]
    },
    {
      "cell_type": "code",
      "metadata": {
        "id": "5q3XLvggMOnz"
      },
      "source": [
        "# Instantiate an optimizer.\n",
        "optimizer = optimizers.Adam()\n",
        "# Instantiate a loss function.\n",
        "loss_fn = tf.compat.v1.losses.mean_squared_error\n",
        "\n",
        "EPOCHS = 1\n",
        "#model = build_model_residual(8,4)\n",
        "model = build_model(384)\n",
        "BS = 51200\n",
        "numUpdates = int(y_train.shape[0] / BS)\n",
        "history_grad = []\n",
        "sum_history = []\n",
        "\n",
        "for epoch in range(0, EPOCHS):\n",
        "    print(\"\\nStart of epoch %d\" % (epoch,))\n",
        "    for i in range(0, numUpdates):\n",
        "              with tf.GradientTape() as tape:\n",
        "                start = i * BS\n",
        "                end = start + BS\n",
        "                logits = model(x_train_final[start:end], training=True)  # Logits for this minibatch\n",
        "                \n",
        "                # Compute the loss value for this minibatch.\n",
        "                loss_value = tf.keras.losses.MSE(y_train_final[start:end], logits)\n",
        "\n",
        "                # Use the gradient tape to automatically retrieve\n",
        "                # the gradients of the trainable variables with respect to the loss.\n",
        "                grads = tape.gradient(loss_value, model.trainable_weights)\n",
        "\n",
        "                # Run one step of gradient descent by updating\n",
        "                # the value of the variables to minimize the loss.\n",
        "                optimizer.apply_gradients(zip(grads, model.trainable_weights))\n",
        "                #sum_history.append(np.average(grads))\n",
        "                for layers_grads in grads:\n",
        "                  sum_history.append(np.average(layers_grads))\n",
        "                history_grad.append(sum_history)\n",
        "                if start > samples:\n",
        "                  break\n",
        "\n",
        "                # Log every 200 batches.\n",
        "                #if i % 400 == 0:\n",
        "                    #print(\"Training loss (for one batch) at step %d: %.4f\"% (start, float(loss_value)))\n",
        "                    #print(\"Seen so far: %s samples\" % ((start + 1) * batch_size))\n",
        "\n"
      ],
      "execution_count": null,
      "outputs": []
    },
    {
      "cell_type": "code",
      "metadata": {
        "id": "szz4qHK9gkSl"
      },
      "source": [
        "b=0\n",
        "for st, i in enumerate(grads):\n",
        "  #print(i.shape)\n",
        "  b = st+1\n",
        "  #if  st > 100:break\n",
        "#print(b)\n",
        "\n",
        "layer_all = []\n",
        "num = b\n",
        "for i in range(0,b):\n",
        "  layer = []\n",
        "  for s, layers_grads in enumerate(history_grad[0]):\n",
        "    if ((s+1)%num == i):\n",
        "      layer.append(layers_grads)\n",
        "    #print(\"layer\",(s+1)%num,',', layers_grads)\n",
        "    #if s > 1000: break\n",
        "\n",
        "  layer_all.append(layer)"
      ],
      "execution_count": null,
      "outputs": []
    },
    {
      "cell_type": "code",
      "metadata": {
        "id": "4FJ4hT9DXjLr"
      },
      "source": [
        "for i in layer_all:\n",
        "  plt.plot(i)\n",
        "  plt.xlabel(\"layer\")\n",
        "  plt.xlabel(\"butch\")\n",
        "  plt.grid()\n",
        "  plt.show()\n",
        " "
      ],
      "execution_count": null,
      "outputs": []
    },
    {
      "cell_type": "markdown",
      "metadata": {
        "id": "UndQQeUurAKp"
      },
      "source": [
        "# Playing with the AI"
      ]
    },
    {
      "cell_type": "code",
      "metadata": {
        "id": "xg1eanm3Sb_H"
      },
      "source": [
        "!unzip /content/stockfish_13_linux_x64_bmi2.zip\n",
        "!chmod +x /content/stockfish_13_linux_x64_bmi2/stockfish_13_linux_x64_bmi2"
      ],
      "execution_count": null,
      "outputs": []
    },
    {
      "cell_type": "code",
      "metadata": {
        "id": "cmDzZ26CkaQo"
      },
      "source": [
        "# Get move from model\n",
        "def get_move(board):\n",
        "  h = []\n",
        "  move_answer = []\n",
        "  start = predict(board)\n",
        "  for move in board.legal_moves:\n",
        "      board.push(move)\n",
        "      h.append(abs(start - predict(board)))\n",
        "      move_answer.append(move)\n",
        "      #print(move,abs(start - predict(board)))\n",
        "      board.pop()\n",
        "  #print(move_answer[h.index(min(h))])\n",
        "  #print(move_answer[h.index(max(h))])\n",
        "  return move_answer[h.index(min(h))]"
      ],
      "execution_count": 44,
      "outputs": []
    },
    {
      "cell_type": "code",
      "metadata": {
        "id": "m70pFhj7qtO2"
      },
      "source": [
        "# Get move from stockfish\n",
        "start_fish = (stockfish(board)+50)/100\n",
        "h = []\n",
        "move_answer = []\n",
        "for move in board.legal_moves:\n",
        "    board.push(move)\n",
        "    h.append(start_fish - (stockfish(board)+50)/100)\n",
        "    move_answer.append(move)\n",
        "    #print(move,abs(start_fish - (stockfish(board)+50)/100))\n",
        "    board.pop()\n",
        "print(move_answer[h.index(min(h))])"
      ],
      "execution_count": null,
      "outputs": []
    },
    {
      "cell_type": "code",
      "metadata": {
        "id": "YYTFEtIbspZ8"
      },
      "source": [
        "board.push(get_move(board))\n",
        "board"
      ],
      "execution_count": null,
      "outputs": []
    },
    {
      "cell_type": "code",
      "metadata": {
        "id": "F14XQv-ZuCBk"
      },
      "source": [
        "board.push_uci('b2a3')\n",
        "board"
      ],
      "execution_count": null,
      "outputs": []
    },
    {
      "cell_type": "code",
      "metadata": {
        "id": "6ITxx5lyxBKC"
      },
      "source": [
        "board.pop()"
      ],
      "execution_count": null,
      "outputs": []
    },
    {
      "cell_type": "code",
      "metadata": {
        "id": "Cvq32AmAt_iv"
      },
      "source": [
        "board"
      ],
      "execution_count": null,
      "outputs": []
    },
    {
      "cell_type": "code",
      "metadata": {
        "colab": {
          "base_uri": "https://localhost:8080/"
        },
        "id": "Wz76H91j7m7-",
        "outputId": "19cc715b-75a9-4c8d-80e7-f468ec6d92c2"
      },
      "source": [
        "get_move(board)"
      ],
      "execution_count": null,
      "outputs": [
        {
          "output_type": "execute_result",
          "data": {
            "text/plain": [
              "Move.from_uci('g2g3')"
            ]
          },
          "metadata": {
            "tags": []
          },
          "execution_count": 98
        }
      ]
    }
  ]
}